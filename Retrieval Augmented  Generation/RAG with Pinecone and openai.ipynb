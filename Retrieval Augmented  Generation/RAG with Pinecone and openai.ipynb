{
 "cells": [
  {
   "cell_type": "code",
   "execution_count": 1,
   "metadata": {},
   "outputs": [],
   "source": [
    "'''' Objective: To demonstrate RAG techniques using Open AI API and Pinecone'''\n",
    "\n",
    "#versions used\n",
    "!pip install pinecone-client==2.2.2 openai==0.28.0 tiktoken==0.5.1 langchain==0.0.291"
   ]
  },
  {
   "cell_type": "code",
   "execution_count": 2,
   "metadata": {},
   "outputs": [
    {
     "data": {
      "text/html": [
       "<div>\n",
       "<style scoped>\n",
       "    .dataframe tbody tr th:only-of-type {\n",
       "        vertical-align: middle;\n",
       "    }\n",
       "\n",
       "    .dataframe tbody tr th {\n",
       "        vertical-align: top;\n",
       "    }\n",
       "\n",
       "    .dataframe thead th {\n",
       "        text-align: right;\n",
       "    }\n",
       "</style>\n",
       "<table border=\"1\" class=\"dataframe\">\n",
       "  <thead>\n",
       "    <tr style=\"text-align: right;\">\n",
       "      <th></th>\n",
       "      <th>movie_title</th>\n",
       "      <th>movie_description</th>\n",
       "      <th>source</th>\n",
       "      <th>genres</th>\n",
       "    </tr>\n",
       "  </thead>\n",
       "  <tbody>\n",
       "    <tr>\n",
       "      <th>0</th>\n",
       "      <td>The Silence of the Lambs</td>\n",
       "      <td>Jodie Foster stars as Clarice Starling, a top ...</td>\n",
       "      <td>https://www.imdb.com/title/tt0102926</td>\n",
       "      <td>Crime,Drama,Thriller</td>\n",
       "    </tr>\n",
       "    <tr>\n",
       "      <th>1</th>\n",
       "      <td>Terminator 2: Judgment Day</td>\n",
       "      <td>In this sequel set eleven years after \"The Ter...</td>\n",
       "      <td>https://www.imdb.com/title/tt0103064</td>\n",
       "      <td>Action,Sci-Fi</td>\n",
       "    </tr>\n",
       "    <tr>\n",
       "      <th>2</th>\n",
       "      <td>The Lion King</td>\n",
       "      <td>This Disney animated feature follows the adven...</td>\n",
       "      <td>https://www.imdb.com/title/tt0110357</td>\n",
       "      <td>Adventure,Animation,Drama</td>\n",
       "    </tr>\n",
       "    <tr>\n",
       "      <th>3</th>\n",
       "      <td>Pulp Fiction</td>\n",
       "      <td>Vincent Vega (John Travolta) and Jules Winnfie...</td>\n",
       "      <td>https://www.imdb.com/title/tt0110912</td>\n",
       "      <td>Crime,Drama</td>\n",
       "    </tr>\n",
       "    <tr>\n",
       "      <th>4</th>\n",
       "      <td>The Shawshank Redemption</td>\n",
       "      <td>Andy Dufresne (Tim Robbins) is sentenced to tw...</td>\n",
       "      <td>https://www.imdb.com/title/tt0111161</td>\n",
       "      <td>Drama</td>\n",
       "    </tr>\n",
       "  </tbody>\n",
       "</table>\n",
       "</div>"
      ],
      "text/plain": [
       "                  movie_title  \\\n",
       "0    The Silence of the Lambs   \n",
       "1  Terminator 2: Judgment Day   \n",
       "2               The Lion King   \n",
       "3                Pulp Fiction   \n",
       "4    The Shawshank Redemption   \n",
       "\n",
       "                                   movie_description  \\\n",
       "0  Jodie Foster stars as Clarice Starling, a top ...   \n",
       "1  In this sequel set eleven years after \"The Ter...   \n",
       "2  This Disney animated feature follows the adven...   \n",
       "3  Vincent Vega (John Travolta) and Jules Winnfie...   \n",
       "4  Andy Dufresne (Tim Robbins) is sentenced to tw...   \n",
       "\n",
       "                                 source                     genres  \n",
       "0  https://www.imdb.com/title/tt0102926       Crime,Drama,Thriller  \n",
       "1  https://www.imdb.com/title/tt0103064              Action,Sci-Fi  \n",
       "2  https://www.imdb.com/title/tt0110357  Adventure,Animation,Drama  \n",
       "3  https://www.imdb.com/title/tt0110912                Crime,Drama  \n",
       "4  https://www.imdb.com/title/tt0111161                      Drama  "
      ]
     },
     "execution_count": 2,
     "metadata": {},
     "output_type": "execute_result"
    }
   ],
   "source": [
    " #Import pandas as pd\n",
    "import pandas as pd     \n",
    "import numpy as np       \n",
    "\n",
    "# Import IMBD.csv and transform to create the movies dataframe\n",
    "IMDB_df=pd.read_csv(\"IMDB.csv\")\n",
    "movies = IMDB_df.rename(columns={\n",
    "    \"primaryTitle\": \"movie_title\",\n",
    "    \"Description\" : \"movie_description\",\n",
    "})\n",
    "movies[\"source\"] = \"https://www.imdb.com/title/\" + movies[\"tconst\"]\n",
    "# only movies type\n",
    "movies = movies.loc[\n",
    "    movies[\"titleType\"] ==\"movie\",\n",
    "    [\"movie_title\",\"movie_description\",\"source\",\"genres\"]\n",
    "]\n",
    "\n",
    "#show movies\n",
    "movies.head()\n"
   ]
  },
  {
   "cell_type": "code",
   "execution_count": 3,
   "metadata": {},
   "outputs": [
    {
     "data": {
      "text/plain": [
       "[Document(page_content=\"Title: The Silence of the Lambs\\nGenre:Crime,Drama,Thriller\\nDescription:Jodie Foster stars as Clarice Starling, a top student at the FBI's training academy. Jack Crawford (Scott Glenn) wants Clarice to interview Dr. Hannibal Lecter (Anthony Hopkins), a brilliant psychiatrist who is also a violent psychopath, serving life behind bars for various acts of murder and cannibalism. Crawford believes that Lecter may have insight into a case and that Starling, as an attractive young woman, may be just the bait to draw him out.\\n\", metadata={'source': 'https://www.imdb.com/title/tt0102926'}),\n",
       " Document(page_content='Title: Terminator 2: Judgment Day\\nGenre:Action,Sci-Fi\\nDescription:In this sequel set eleven years after \"The Terminator,\" young John Connor (Edward Furlong), the key to civilization\\'s victory over a future robot uprising, is the target of the shape-shifting T-1000 (Robert Patrick), a Terminator sent from the future to kill him. Another Terminator, the revamped T-800 (Arnold Schwarzenegger), has been sent back to protect the boy. As John and his mother (Linda Hamilton) go on the run with the T-800, the boy forms an unexpected bond with the robot.\\n', metadata={'source': 'https://www.imdb.com/title/tt0103064'}),\n",
       " Document(page_content=\"Title: The Lion King\\nGenre:Adventure,Animation,Drama\\nDescription:This Disney animated feature follows the adventures of the young lion Simba (Jonathan Taylor Thomas), the heir of his father, Mufasa (James Earl Jones). Simba's wicked uncle, Scar (Jeremy Irons), plots to usurp Mufasa's throne by luring father and son into a stampede of wildebeests. But Simba escapes, and only Mufasa is killed. Simba returns as an adult (Matthew Broderick) to take back his homeland from Scar with the help of his friends Timon (Nathan Lane) and Pumbaa (Ernie Sabella).\\n\", metadata={'source': 'https://www.imdb.com/title/tt0110357'})]"
      ]
     },
     "execution_count": 3,
     "metadata": {},
     "output_type": "execute_result"
    }
   ],
   "source": [
    "# Import DataFrameLoader\n",
    "from langchain.document_loaders import DataFrameLoader\n",
    "\n",
    "# Create page content column\n",
    "movies[\"page_content\"]= \"Title: \" + movies[\"movie_title\"]+ \"\\n\" + \\\n",
    "\"Genre:\"  + movies[\"genres\"] + \"\\n\" + \\\n",
    "\"Description:\" + movies[\"movie_description\"] + \"\\n\" \n",
    "  \n",
    "\n",
    "# Drop all columns except for page_content and source\n",
    "\n",
    "movies=movies[[\"page_content\",\"source\"]]\n",
    "\n",
    "\n",
    "# Load the documents from the dataframe into docs\n",
    "# The page content column is 'movie_description'\n",
    "\n",
    "docs = DataFrameLoader(movies,\n",
    "                       page_content_column=\"page_content\",).load()\n",
    "\n",
    "\n",
    "\n",
    "# Print the first 3 documents and the number of documents\n",
    "docs[:3]"
   ]
  },
  {
   "attachments": {},
   "cell_type": "markdown",
   "metadata": {},
   "source": [
    "## Estimate cost of embedding\n",
    "\n",
    "openAI cost is based on amount of tokens.We will find number of tokens in text with tiktoken.\n",
    "will derive cost from this"
   ]
  },
  {
   "cell_type": "code",
   "execution_count": 5,
   "metadata": {},
   "outputs": [
    {
     "data": {
      "text/plain": [
       "0.037510100000000005"
      ]
     },
     "execution_count": 5,
     "metadata": {},
     "output_type": "execute_result"
    }
   ],
   "source": [
    "#import tiktoken\n",
    "import tiktoken\n",
    "\n",
    "#create encoder\n",
    "#cl100k_base is encoder for 'text-embedding-ad-002' model\n",
    "encoder =tiktoken.get_encoding(\"cl100k_base\")\n",
    "\n",
    "#create list containing number of tokens for each document\n",
    "\n",
    "tokens_per_doc = [len(encoder.encode(doc.page_content)) for doc in docs]\n",
    "\n",
    "\n",
    "# cost calc @ 0.0001$ every 1000 tokens\n",
    "total_tokens = sum(tokens_per_doc)\n",
    "cost_1k_token = 0.0001\n",
    "cost = (total_tokens/1000) * cost_1k_token\n",
    "cost\n",
    "# total cost is negligible -  37 cents "
   ]
  },
  {
   "cell_type": "markdown",
   "metadata": {},
   "source": [
    "## Create index on PineCone\n",
    "\n"
   ]
  },
  {
   "cell_type": "code",
   "execution_count": 6,
   "metadata": {},
   "outputs": [
    {
     "name": "stderr",
     "output_type": "stream",
     "text": [
      "/Users/prasannasundar/Projects/Using OpenAI and Langchain/NLP and AI /.conda/lib/python3.8/site-packages/pinecone/index.py:4: TqdmWarning: IProgress not found. Please update jupyter and ipywidgets. See https://ipywidgets.readthedocs.io/en/stable/user_install.html\n",
      "  from tqdm.autonotebook import tqdm\n"
     ]
    },
    {
     "name": "stdout",
     "output_type": "stream",
     "text": [
      "['imdb-movies']\n"
     ]
    }
   ],
   "source": [
    "#import pinecone\n",
    "import os\n",
    "import pinecone\n",
    "# initialize pinecone\n",
    "\n",
    "pinecone.init(\n",
    "    api_key = os.environ[\"PINECONE_API_KEY\"],\n",
    "    environment=\"gcp-starter\"\n",
    ")\n",
    "\n",
    "\n",
    "#print indexes\n",
    "\n",
    "print(pinecone.list_indexes())\n",
    "\n",
    "index_name =  \"imdb-movies\"\n",
    "\n",
    "#checking index doesnt exist\n",
    "\n",
    "if index_name not in pinecone.list_indexes():\n",
    "    #create index \n",
    "\n",
    "    pinecone.create_index(\n",
    "        name = index_name,\n",
    "        metric = \"cosine\",\n",
    "        dimension = 1536,\n",
    "    )"
   ]
  },
  {
   "cell_type": "code",
   "execution_count": 7,
   "metadata": {},
   "outputs": [
    {
     "data": {
      "text/plain": [
       "[Document(page_content='Title: Jersey\\nGenre:Drama,Sport\\nDescription:A middle-aged cricketer whose career has failed to take off is pressured to give up on his dream.\\n', metadata={'source': 'https://www.imdb.com/title/tt8948790'}),\n",
       " Document(page_content='Title: Iqbal\\nGenre:Drama,Sport\\nDescription:A young deaf man wants to play cricket, but his father refuses to let him play. With help from his sister, they find a retired cricket player to teach him how to play.\\n', metadata={'source': 'https://www.imdb.com/title/tt0453729'}),\n",
       " Document(page_content=\"Title: Lagaan: Once Upon a Time in India\\nGenre:Drama,Musical,Sport\\nDescription:The year is 1893 and India is under British occupation. In a small village, the tyrannical Captain Russell (Paul Blackthorne) has imposed an unprecedented land tax on its citizens. Outraged, Bhuvan (Aamir Khan), a rebellious farmer, rallies the villagers to publicly oppose the tax. Russell offers a novel way to settle the dispute: he challenges Bhuvan and his men to a game of cricket, a sport completely foreign to India. If Bhuvan and his men can defeat Russell's team, the tax will be repealed.\\n\", metadata={'source': 'https://www.imdb.com/title/tt0169102'}),\n",
       " Document(page_content=\"Title: 42\\nGenre:Biography,Drama,Sport\\nDescription:The story revolves around the 'Quit India Movement' of 1942, as seen from the eyes of the people of a small town in Bengal. It depicts how Indians forced the British Empire to leave India.\\n\", metadata={'source': 'https://www.imdb.com/title/tt0453562'})]"
      ]
     },
     "execution_count": 7,
     "metadata": {},
     "output_type": "execute_result"
    }
   ],
   "source": [
    "# Import OpenAIEmbeddings, Pinecone and Index\n",
    "\n",
    "from langchain.embeddings.openai import OpenAIEmbeddings\n",
    "from langchain.vectorstores import Pinecone\n",
    "from pinecone.index import Index\n",
    "\n",
    "# Create the embeddings object\n",
    "\n",
    "embeddings = OpenAIEmbeddings()\n",
    "\n",
    "index = Index(index_name)\n",
    "\n",
    "# Check if there is already some data in the index on Pinecone\n",
    "if index.describe_index_stats()['total_vector_count'] > 0:\n",
    "    # If there is, use from_existing_index to use the vector store\n",
    "    docsearch = Pinecone.from_existing_index(index_name,\n",
    "                            embeddings,)\n",
    "else:\n",
    "    # If there is not, use from_documents to fill the vector store\n",
    "    docsearch = Pinecone.from_documents(docs,\n",
    "                                         embeddings,\n",
    "                                         index_name=index_name)\n",
    "\n",
    "question = \"What's a good sports movie with cricket?\"\n",
    "    \n",
    "# Use the vector database as a retriever and get the relevant documents for a quesiton\n",
    "docsearch.as_retriever().get_relevant_documents(question)"
   ]
  },
  {
   "cell_type": "code",
   "execution_count": null,
   "metadata": {},
   "outputs": [],
   "source": [
    "## Prompt"
   ]
  },
  {
   "cell_type": "code",
   "execution_count": 21,
   "metadata": {},
   "outputs": [],
   "source": [
    "# Import PromptTemplate\n",
    "from langchain.prompts import PromptTemplate\n",
    "\n",
    "# Read/adapt the prompts below at will\n",
    "DOCUMENT_PROMPT = \"\"\"{page_content}\n",
    "IMDB link: {source}\n",
    "=========\"\"\"\n",
    "\n",
    "QUESTION_PROMPT = \"\"\"Given the following extracted parts of a movie database and a question, create a final answer with the IMDB link as source (\"SOURCE\").\n",
    "If you don't know the answer, just say that you don't know. Don't try to make up an answer.\n",
    "ALWAYS return a \"SOURCE\" part in your answer.\n",
    "\n",
    "QUESTION: What's a good sports movie with cricket to watch for kids?\n",
    "=========\n",
    "Title: Jersey\n",
    "Genre: Drama,Sport\n",
    "Description: A middle-aged cricketer whose career has failed to take off is pressured to give up on his dream.\n",
    "IMDB link: https://www.imdb.com/title/tt8948790\n",
    "=========\n",
    "Title: Iqbal\n",
    "Genre: Drama,Sport\n",
    "Description: A young deaf man wants to play cricket, but his father refuses to let him play. With help from his sister, they find a retired cricket player to teach him how to play.\n",
    "IMDB link: https://www.imdb.com/title/tt0453729\n",
    "=========\n",
    "Title: Lagaan\n",
    "Genre: Drama,Musical,Sport\n",
    "Description: Once Upon a Time in India\\nGenre:Drama,Musical,Sport\\nDescription:The year is 1893 and India is under British occupation. In a small village, the tyrannical Captain Russell (Paul Blackthorne) has imposed an unprecedented land tax on its citizens. Outraged, Bhuvan (Aamir Khan), a rebellious farmer, rallies the villagers to publicly oppose the tax. Russell offers a novel way to settle the dispute: he challenges Bhuvan and his men to a game of cricket, a sport completely foreign to India. If Bhuvan and his men can defeat Russell's team, the tax will be repealed.\n",
    "IMDB link: https://www.imdb.com/title/tt0169102\n",
    "\n",
    "=========\n",
    "FINAL ANSWER: 'Iqbal is a movie about a kid's challenges and how he overcomes them. It would be a good movie to watch with a kid.\n",
    "SOURCE: https://www.imdb.com/title/tt0129167\n",
    "\n",
    "QUESTION: {question}\n",
    "=========\n",
    "{summaries}\n",
    "FINAL ANSWER:\"\"\"\n",
    "\n",
    "# Create prompt template objects\n",
    "DOCUMENT_PROMPT = PromptTemplate.from_template(DOCUMENT_PROMPT)\n",
    "\n",
    "QUESTION_PROMPT = PromptTemplate.from_template(QUESTION_PROMPT)"
   ]
  },
  {
   "cell_type": "code",
   "execution_count": 23,
   "metadata": {},
   "outputs": [
    {
     "data": {
      "text/plain": [
       "{'question': 'What is a good movie on cricketer Muttiah Muralitharan?',\n",
       " 'answer': \"I don't know of any specific movies about cricketer Muttiah Muralitharan.\",\n",
       " 'sources': ''}"
      ]
     },
     "execution_count": 23,
     "metadata": {},
     "output_type": "execute_result"
    }
   ],
   "source": [
    "# ask question now without adding a movie from 2023 to documents\n",
    "from langchain.chains import RetrievalQAWithSourcesChain\n",
    "from langchain.chat_models import ChatOpenAI\n",
    "\n",
    "#create question bot\n",
    "\n",
    "qa_with_sources = RetrievalQAWithSourcesChain.from_chain_type(\n",
    "    chain_type=\"stuff\",\n",
    "    llm=ChatOpenAI(model_name=\"gpt-3.5-turbo\",temperature=0),\n",
    "    chain_type_kwargs={\n",
    "        \"prompt\": QUESTION_PROMPT,\n",
    "        \"document_prompt\": DOCUMENT_PROMPT,\n",
    "    },\n",
    "    retriever = docsearch.as_retriever(),\n",
    ")\n",
    "\n",
    "\n",
    "#ask \n",
    "question_new =\"What is a good movie on cricketer Muttiah Muralitharan?\"\n",
    "\n",
    "qa_with_sources(question_new)"
   ]
  },
  {
   "cell_type": "code",
   "execution_count": null,
   "metadata": {},
   "outputs": [],
   "source": [
    "# again we will try after adding a new movie from 2023\n",
    "\n"
   ]
  },
  {
   "cell_type": "code",
   "execution_count": 25,
   "metadata": {},
   "outputs": [],
   "source": [
    "# Import PromptTemplate\n",
    "from langchain.prompts import PromptTemplate\n",
    "\n",
    "# Read/adapt the prompts below at will\n",
    "DOCUMENT_PROMPT = \"\"\"{page_content}\n",
    "IMDB link: {source}\n",
    "=========\"\"\"\n",
    "\n",
    "QUESTION_PROMPT = \"\"\"Given the following extracted parts of a movie database and a question, create a final answer with the IMDB link as source (\"SOURCE\").\n",
    "If you don't know the answer, just say that you don't know. Don't try to make up an answer.\n",
    "ALWAYS return a \"SOURCE\" part in your answer.\n",
    "\n",
    "QUESTION: What's a good sports movie with cricket to watch for kids?\n",
    "=========\n",
    "Title: Jersey\n",
    "Genre: Drama,Sport\n",
    "Description: A middle-aged cricketer whose career has failed to take off is pressured to give up on his dream.\n",
    "IMDB link: https://www.imdb.com/title/tt8948790\n",
    "=========\n",
    "Title: Iqbal\n",
    "Genre: Drama,Sport\n",
    "Description: A young deaf man wants to play cricket, but his father refuses to let him play. With help from his sister, they find a retired cricket player to teach him how to play.\n",
    "IMDB link: https://www.imdb.com/title/tt0453729\n",
    "=========\n",
    "Title: Lagaan\n",
    "Genre: Drama,Musical,Sport\n",
    "Description: Once Upon a Time in India\\nGenre:Drama,Musical,Sport\\nDescription:The year is 1893 and India is under British occupation. In a small village, the tyrannical Captain Russell (Paul Blackthorne) has imposed an unprecedented land tax on its citizens. Outraged, Bhuvan (Aamir Khan), a rebellious farmer, rallies the villagers to publicly oppose the tax. Russell offers a novel way to settle the dispute: he challenges Bhuvan and his men to a game of cricket, a sport completely foreign to India. If Bhuvan and his men can defeat Russell's team, the tax will be repealed.\n",
    "IMDB link: https://www.imdb.com/title/tt0169102\n",
    "=========\n",
    "Title:800\n",
    "Genre:Sports,Biopic\n",
    "Description:The biopic promises to bring Muttiah Muralitharan's inspirational journey to a global audience, shedding light on the challenges and triumphs that defined his illustrious cricket career.\n",
    "IMDB link: https://www.imdb.com/title/tt27539086\n",
    "\n",
    "=========\n",
    "FINAL ANSWER: 'Iqbal is a movie about a kid's challenges and how he overcomes them. It would be a good movie to watch with a kid.\n",
    "SOURCE: https://www.imdb.com/title/tt0129167\n",
    "\n",
    "QUESTION: {question}\n",
    "=========\n",
    "{summaries}\n",
    "FINAL ANSWER:\"\"\"\n",
    "\n",
    "# Create prompt template objects\n",
    "DOCUMENT_PROMPT = PromptTemplate.from_template(DOCUMENT_PROMPT)\n",
    "\n",
    "QUESTION_PROMPT = PromptTemplate.from_template(QUESTION_PROMPT)"
   ]
  },
  {
   "cell_type": "code",
   "execution_count": 26,
   "metadata": {},
   "outputs": [
    {
     "data": {
      "text/plain": [
       "{'question': 'What is a good movie on cricketer Muttiah Muralitharan?',\n",
       " 'answer': \"'800' is a biopic about cricketer Muttiah Muralitharan. It showcases his inspirational journey and highlights the challenges and triumphs of his cricket career.\\n\",\n",
       " 'sources': 'https://www.imdb.com/title/tt27539086'}"
      ]
     },
     "execution_count": 26,
     "metadata": {},
     "output_type": "execute_result"
    }
   ],
   "source": [
    "qa_with_sources = RetrievalQAWithSourcesChain.from_chain_type(\n",
    "    chain_type=\"stuff\",\n",
    "    llm=ChatOpenAI(model_name=\"gpt-3.5-turbo\",temperature=0),\n",
    "    chain_type_kwargs={\n",
    "        \"prompt\": QUESTION_PROMPT,\n",
    "        \"document_prompt\": DOCUMENT_PROMPT,\n",
    "    },\n",
    "    retriever = docsearch.as_retriever(),\n",
    ")\n",
    "\n",
    "\n",
    "#ask \n",
    "question_new =\"What is a good movie on cricketer Muttiah Muralitharan?\"\n",
    "\n",
    "qa_with_sources(question_new)"
   ]
  },
  {
   "cell_type": "code",
   "execution_count": null,
   "metadata": {},
   "outputs": [],
   "source": [
    "# using RAG we  added relevant documents beyond the cutoff period of chatgpt and chatgpt was able to retrieve the desired response.\n"
   ]
  }
 ],
 "metadata": {
  "kernelspec": {
   "display_name": "Python 3",
   "language": "python",
   "name": "python3"
  },
  "language_info": {
   "codemirror_mode": {
    "name": "ipython",
    "version": 3
   },
   "file_extension": ".py",
   "mimetype": "text/x-python",
   "name": "python",
   "nbconvert_exporter": "python",
   "pygments_lexer": "ipython3",
   "version": "3.8.18"
  },
  "orig_nbformat": 4
 },
 "nbformat": 4,
 "nbformat_minor": 2
}
