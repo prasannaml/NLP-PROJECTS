{
 "cells": [
  {
   "cell_type": "code",
   "execution_count": 1,
   "metadata": {},
   "outputs": [],
   "source": [
    "%%capture\n",
    "# Below we installed specific versions of the packages\n",
    "# Feel free to experiment with different versions\n",
    "# However, the workspace below is only tested with these specific versions\n",
    "!pip install pinecone-client==2.2.2 openai==0.28.0 tiktoken==0.5.1 langchain==0.0.291"
   ]
  },
  {
   "cell_type": "code",
   "execution_count": 1,
   "metadata": {},
   "outputs": [
    {
     "data": {
      "text/html": [
       "<div>\n",
       "<style scoped>\n",
       "    .dataframe tbody tr th:only-of-type {\n",
       "        vertical-align: middle;\n",
       "    }\n",
       "\n",
       "    .dataframe tbody tr th {\n",
       "        vertical-align: top;\n",
       "    }\n",
       "\n",
       "    .dataframe thead th {\n",
       "        text-align: right;\n",
       "    }\n",
       "</style>\n",
       "<table border=\"1\" class=\"dataframe\">\n",
       "  <thead>\n",
       "    <tr style=\"text-align: right;\">\n",
       "      <th></th>\n",
       "      <th>movie_title</th>\n",
       "      <th>movie_description</th>\n",
       "      <th>source</th>\n",
       "      <th>genres</th>\n",
       "    </tr>\n",
       "  </thead>\n",
       "  <tbody>\n",
       "    <tr>\n",
       "      <th>0</th>\n",
       "      <td>The Silence of the Lambs</td>\n",
       "      <td>Jodie Foster stars as Clarice Starling, a top ...</td>\n",
       "      <td>https://www.imdb.com/title/tt0102926</td>\n",
       "      <td>Crime,Drama,Thriller</td>\n",
       "    </tr>\n",
       "    <tr>\n",
       "      <th>1</th>\n",
       "      <td>Terminator 2: Judgment Day</td>\n",
       "      <td>In this sequel set eleven years after \"The Ter...</td>\n",
       "      <td>https://www.imdb.com/title/tt0103064</td>\n",
       "      <td>Action,Sci-Fi</td>\n",
       "    </tr>\n",
       "    <tr>\n",
       "      <th>2</th>\n",
       "      <td>The Lion King</td>\n",
       "      <td>This Disney animated feature follows the adven...</td>\n",
       "      <td>https://www.imdb.com/title/tt0110357</td>\n",
       "      <td>Adventure,Animation,Drama</td>\n",
       "    </tr>\n",
       "    <tr>\n",
       "      <th>3</th>\n",
       "      <td>Pulp Fiction</td>\n",
       "      <td>Vincent Vega (John Travolta) and Jules Winnfie...</td>\n",
       "      <td>https://www.imdb.com/title/tt0110912</td>\n",
       "      <td>Crime,Drama</td>\n",
       "    </tr>\n",
       "    <tr>\n",
       "      <th>4</th>\n",
       "      <td>The Shawshank Redemption</td>\n",
       "      <td>Andy Dufresne (Tim Robbins) is sentenced to tw...</td>\n",
       "      <td>https://www.imdb.com/title/tt0111161</td>\n",
       "      <td>Drama</td>\n",
       "    </tr>\n",
       "  </tbody>\n",
       "</table>\n",
       "</div>"
      ],
      "text/plain": [
       "                  movie_title  \\\n",
       "0    The Silence of the Lambs   \n",
       "1  Terminator 2: Judgment Day   \n",
       "2               The Lion King   \n",
       "3                Pulp Fiction   \n",
       "4    The Shawshank Redemption   \n",
       "\n",
       "                                   movie_description  \\\n",
       "0  Jodie Foster stars as Clarice Starling, a top ...   \n",
       "1  In this sequel set eleven years after \"The Ter...   \n",
       "2  This Disney animated feature follows the adven...   \n",
       "3  Vincent Vega (John Travolta) and Jules Winnfie...   \n",
       "4  Andy Dufresne (Tim Robbins) is sentenced to tw...   \n",
       "\n",
       "                                 source                     genres  \n",
       "0  https://www.imdb.com/title/tt0102926       Crime,Drama,Thriller  \n",
       "1  https://www.imdb.com/title/tt0103064              Action,Sci-Fi  \n",
       "2  https://www.imdb.com/title/tt0110357  Adventure,Animation,Drama  \n",
       "3  https://www.imdb.com/title/tt0110912                Crime,Drama  \n",
       "4  https://www.imdb.com/title/tt0111161                      Drama  "
      ]
     },
     "execution_count": 1,
     "metadata": {},
     "output_type": "execute_result"
    }
   ],
   "source": [
    " #Import pandas as pd\n",
    "import pandas as pd            \n",
    "\n",
    "# Import IMBD.csv and transform to create the movies dataframe\n",
    "IMDB_df=pd.read_csv(\"IMDB.csv\")\n",
    "movies = IMDB_df.rename(columns={\n",
    "    \"primaryTitle\": \"movie_title\",\n",
    "    \"Description\" : \"movie_description\",\n",
    "})\n",
    "movies[\"source\"] = \"https://www.imdb.com/title/\" + movies[\"tconst\"]\n",
    "# only movies type\n",
    "movies = movies.loc[\n",
    "    movies[\"titleType\"] ==\"movie\",\n",
    "    [\"movie_title\",\"movie_description\",\"source\",\"genres\"]\n",
    "]\n",
    "\n",
    "#show movies\n",
    "movies.head()\n"
   ]
  },
  {
   "cell_type": "code",
   "execution_count": 2,
   "metadata": {},
   "outputs": [
    {
     "data": {
      "text/plain": [
       "[Document(page_content=\"Title: The Silence of the Lambs\\nGenre:Crime,Drama,Thriller\\nDescription:Jodie Foster stars as Clarice Starling, a top student at the FBI's training academy. Jack Crawford (Scott Glenn) wants Clarice to interview Dr. Hannibal Lecter (Anthony Hopkins), a brilliant psychiatrist who is also a violent psychopath, serving life behind bars for various acts of murder and cannibalism. Crawford believes that Lecter may have insight into a case and that Starling, as an attractive young woman, may be just the bait to draw him out.\\n\", metadata={'source': 'https://www.imdb.com/title/tt0102926'}),\n",
       " Document(page_content='Title: Terminator 2: Judgment Day\\nGenre:Action,Sci-Fi\\nDescription:In this sequel set eleven years after \"The Terminator,\" young John Connor (Edward Furlong), the key to civilization\\'s victory over a future robot uprising, is the target of the shape-shifting T-1000 (Robert Patrick), a Terminator sent from the future to kill him. Another Terminator, the revamped T-800 (Arnold Schwarzenegger), has been sent back to protect the boy. As John and his mother (Linda Hamilton) go on the run with the T-800, the boy forms an unexpected bond with the robot.\\n', metadata={'source': 'https://www.imdb.com/title/tt0103064'}),\n",
       " Document(page_content=\"Title: The Lion King\\nGenre:Adventure,Animation,Drama\\nDescription:This Disney animated feature follows the adventures of the young lion Simba (Jonathan Taylor Thomas), the heir of his father, Mufasa (James Earl Jones). Simba's wicked uncle, Scar (Jeremy Irons), plots to usurp Mufasa's throne by luring father and son into a stampede of wildebeests. But Simba escapes, and only Mufasa is killed. Simba returns as an adult (Matthew Broderick) to take back his homeland from Scar with the help of his friends Timon (Nathan Lane) and Pumbaa (Ernie Sabella).\\n\", metadata={'source': 'https://www.imdb.com/title/tt0110357'})]"
      ]
     },
     "execution_count": 2,
     "metadata": {},
     "output_type": "execute_result"
    }
   ],
   "source": [
    "# Import DataFrameLoader\n",
    "from langchain.document_loaders import DataFrameLoader\n",
    "\n",
    "# Create page content column\n",
    "movies[\"page_content\"]= \"Title: \" + movies[\"movie_title\"]+ \"\\n\" + \\\n",
    "\"Genre:\"  + movies[\"genres\"] + \"\\n\" + \\\n",
    "\"Description:\" + movies[\"movie_description\"] + \"\\n\" \n",
    "  \n",
    "\n",
    "# Drop all columns except for page_content and source\n",
    "\n",
    "movies=movies[[\"page_content\",\"source\"]]\n",
    "\n",
    "\n",
    "# Load the documents from the dataframe into docs\n",
    "# The page content column is 'movie_description'\n",
    "\n",
    "docs = DataFrameLoader(movies,\n",
    "                       page_content_column=\"page_content\",).load()\n",
    "\n",
    "\n",
    "\n",
    "# Print the first 3 documents and the number of documents\n",
    "docs[:3]"
   ]
  },
  {
   "attachments": {},
   "cell_type": "markdown",
   "metadata": {},
   "source": [
    "## Estimate cost of embedding\n",
    "\n",
    "openAI cost is based on amount of tokens.We will find number of tokens in text with tiktoken.\n",
    "will derive cost from this"
   ]
  },
  {
   "cell_type": "code",
   "execution_count": 3,
   "metadata": {},
   "outputs": [
    {
     "data": {
      "text/plain": [
       "0.037510100000000005"
      ]
     },
     "execution_count": 3,
     "metadata": {},
     "output_type": "execute_result"
    }
   ],
   "source": [
    "#import tiktoken\n",
    "import tiktoken\n",
    "\n",
    "#create encoder\n",
    "#cl100k_base is encoder for 'text-embedding-ad-002' model\n",
    "encoder =tiktoken.get_encoding(\"cl100k_base\")\n",
    "\n",
    "#create list containing number of tokens for each document\n",
    "\n",
    "tokens_per_doc = [len(encoder.encode(doc.page_content)) for doc in docs]\n",
    "\n",
    "\n",
    "# cost calc @ 0.0001$ every 1000 tokens\n",
    "total_tokens = sum(tokens_per_doc)\n",
    "cost_1k_token = 0.0001\n",
    "cost = (total_tokens/1000) * cost_1k_token\n",
    "cost"
   ]
  },
  {
   "cell_type": "code",
   "execution_count": null,
   "metadata": {},
   "outputs": [],
   "source": [
    "# 37 cents cost"
   ]
  },
  {
   "cell_type": "code",
   "execution_count": 12,
   "metadata": {},
   "outputs": [],
   "source": [
    "## Create index on PineCone\n",
    "\n"
   ]
  },
  {
   "cell_type": "code",
   "execution_count": 11,
   "metadata": {},
   "outputs": [
    {
     "name": "stdout",
     "output_type": "stream",
     "text": [
      "[]\n"
     ]
    }
   ],
   "source": [
    "#import pinecone\n",
    "import os\n",
    "import pinecone\n",
    "# initialize pinecone\n",
    "\n",
    "pinecone.init(\n",
    "    api_key = os.environ[\"PINECONE_API_KEY\"],\n",
    "    environment=\"gcp-starter\"\n",
    ")\n",
    "\n",
    "\n",
    "#print indexes\n",
    "\n",
    "print(pinecone.list_indexes())\n",
    "\n",
    "index_name =  \"imdb-movies\"\n",
    "\n",
    "#checking index doesnt exist\n",
    "\n",
    "if index_name not in pinecone.list_indexes():\n",
    "    #create index \n",
    "\n",
    "    pinecone.create_index(\n",
    "        name = index_name,\n",
    "        metric = \"cosine\",\n",
    "        dimension = 1536,\n",
    "    )"
   ]
  },
  {
   "cell_type": "code",
   "execution_count": null,
   "metadata": {},
   "outputs": [],
   "source": []
  }
 ],
 "metadata": {
  "kernelspec": {
   "display_name": "Python 3",
   "language": "python",
   "name": "python3"
  },
  "language_info": {
   "codemirror_mode": {
    "name": "ipython",
    "version": 3
   },
   "file_extension": ".py",
   "mimetype": "text/x-python",
   "name": "python",
   "nbconvert_exporter": "python",
   "pygments_lexer": "ipython3",
   "version": "3.8.18"
  },
  "orig_nbformat": 4
 },
 "nbformat": 4,
 "nbformat_minor": 2
}
