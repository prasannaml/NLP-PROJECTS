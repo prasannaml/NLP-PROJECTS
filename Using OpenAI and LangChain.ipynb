{
 "cells": [
  {
   "cell_type": "code",
   "execution_count": 4,
   "metadata": {},
   "outputs": [
    {
     "name": "stdout",
     "output_type": "stream",
     "text": [
      "Requirement already satisfied: langchain==0.0.300 in /Users/prasannasundar/anaconda3/lib/python3.10/site-packages (0.0.300)\n",
      "Requirement already satisfied: async-timeout<5.0.0,>=4.0.0 in /Users/prasannasundar/anaconda3/lib/python3.10/site-packages (from langchain==0.0.300) (4.0.2)\n",
      "Requirement already satisfied: pydantic<3,>=1 in /Users/prasannasundar/anaconda3/lib/python3.10/site-packages (from langchain==0.0.300) (2.5.2)\n",
      "Requirement already satisfied: requests<3,>=2 in /Users/prasannasundar/anaconda3/lib/python3.10/site-packages (from langchain==0.0.300) (2.28.1)\n",
      "Requirement already satisfied: numpy<2,>=1 in /Users/prasannasundar/anaconda3/lib/python3.10/site-packages (from langchain==0.0.300) (1.25.2)\n",
      "Requirement already satisfied: tenacity<9.0.0,>=8.1.0 in /Users/prasannasundar/anaconda3/lib/python3.10/site-packages (from langchain==0.0.300) (8.2.3)\n",
      "Requirement already satisfied: jsonpatch<2.0,>=1.33 in /Users/prasannasundar/anaconda3/lib/python3.10/site-packages (from langchain==0.0.300) (1.33)\n",
      "Requirement already satisfied: numexpr<3.0.0,>=2.8.4 in /Users/prasannasundar/anaconda3/lib/python3.10/site-packages (from langchain==0.0.300) (2.8.4)\n",
      "Requirement already satisfied: SQLAlchemy<3,>=1.4 in /Users/prasannasundar/anaconda3/lib/python3.10/site-packages (from langchain==0.0.300) (1.4.39)\n",
      "Requirement already satisfied: aiohttp<4.0.0,>=3.8.3 in /Users/prasannasundar/anaconda3/lib/python3.10/site-packages (from langchain==0.0.300) (3.8.4)\n",
      "Requirement already satisfied: anyio<4.0 in /Users/prasannasundar/anaconda3/lib/python3.10/site-packages (from langchain==0.0.300) (3.5.0)\n",
      "Requirement already satisfied: dataclasses-json<0.7,>=0.5.7 in /Users/prasannasundar/anaconda3/lib/python3.10/site-packages (from langchain==0.0.300) (0.6.3)\n",
      "Requirement already satisfied: PyYAML>=5.3 in /Users/prasannasundar/anaconda3/lib/python3.10/site-packages (from langchain==0.0.300) (6.0.1)\n",
      "Requirement already satisfied: langsmith<0.1.0,>=0.0.38 in /Users/prasannasundar/anaconda3/lib/python3.10/site-packages (from langchain==0.0.300) (0.0.69)\n",
      "Requirement already satisfied: attrs>=17.3.0 in /Users/prasannasundar/anaconda3/lib/python3.10/site-packages (from aiohttp<4.0.0,>=3.8.3->langchain==0.0.300) (23.1.0)\n",
      "Requirement already satisfied: frozenlist>=1.1.1 in /Users/prasannasundar/anaconda3/lib/python3.10/site-packages (from aiohttp<4.0.0,>=3.8.3->langchain==0.0.300) (1.3.3)\n",
      "Requirement already satisfied: charset-normalizer<4.0,>=2.0 in /Users/prasannasundar/anaconda3/lib/python3.10/site-packages (from aiohttp<4.0.0,>=3.8.3->langchain==0.0.300) (2.0.4)\n",
      "Requirement already satisfied: aiosignal>=1.1.2 in /Users/prasannasundar/anaconda3/lib/python3.10/site-packages (from aiohttp<4.0.0,>=3.8.3->langchain==0.0.300) (1.3.1)\n",
      "Requirement already satisfied: yarl<2.0,>=1.0 in /Users/prasannasundar/anaconda3/lib/python3.10/site-packages (from aiohttp<4.0.0,>=3.8.3->langchain==0.0.300) (1.9.2)\n",
      "Requirement already satisfied: multidict<7.0,>=4.5 in /Users/prasannasundar/anaconda3/lib/python3.10/site-packages (from aiohttp<4.0.0,>=3.8.3->langchain==0.0.300) (6.0.4)\n",
      "Requirement already satisfied: idna>=2.8 in /Users/prasannasundar/anaconda3/lib/python3.10/site-packages (from anyio<4.0->langchain==0.0.300) (3.4)\n",
      "Requirement already satisfied: sniffio>=1.1 in /Users/prasannasundar/anaconda3/lib/python3.10/site-packages (from anyio<4.0->langchain==0.0.300) (1.2.0)\n",
      "Requirement already satisfied: typing-inspect<1,>=0.4.0 in /Users/prasannasundar/anaconda3/lib/python3.10/site-packages (from dataclasses-json<0.7,>=0.5.7->langchain==0.0.300) (0.9.0)\n",
      "Requirement already satisfied: marshmallow<4.0.0,>=3.18.0 in /Users/prasannasundar/anaconda3/lib/python3.10/site-packages (from dataclasses-json<0.7,>=0.5.7->langchain==0.0.300) (3.20.1)\n",
      "Requirement already satisfied: jsonpointer>=1.9 in /Users/prasannasundar/anaconda3/lib/python3.10/site-packages (from jsonpatch<2.0,>=1.33->langchain==0.0.300) (2.1)\n",
      "Requirement already satisfied: pydantic-core==2.14.5 in /Users/prasannasundar/anaconda3/lib/python3.10/site-packages (from pydantic<3,>=1->langchain==0.0.300) (2.14.5)\n",
      "Requirement already satisfied: typing-extensions>=4.6.1 in /Users/prasannasundar/anaconda3/lib/python3.10/site-packages (from pydantic<3,>=1->langchain==0.0.300) (4.8.0)\n",
      "Requirement already satisfied: annotated-types>=0.4.0 in /Users/prasannasundar/anaconda3/lib/python3.10/site-packages (from pydantic<3,>=1->langchain==0.0.300) (0.6.0)\n",
      "Requirement already satisfied: urllib3<1.27,>=1.21.1 in /Users/prasannasundar/anaconda3/lib/python3.10/site-packages (from requests<3,>=2->langchain==0.0.300) (1.26.16)\n",
      "Requirement already satisfied: certifi>=2017.4.17 in /Users/prasannasundar/anaconda3/lib/python3.10/site-packages (from requests<3,>=2->langchain==0.0.300) (2023.5.7)\n",
      "Requirement already satisfied: packaging>=17.0 in /Users/prasannasundar/anaconda3/lib/python3.10/site-packages (from marshmallow<4.0.0,>=3.18.0->dataclasses-json<0.7,>=0.5.7->langchain==0.0.300) (23.1)\n",
      "Requirement already satisfied: mypy-extensions>=0.3.0 in /Users/prasannasundar/anaconda3/lib/python3.10/site-packages (from typing-inspect<1,>=0.4.0->dataclasses-json<0.7,>=0.5.7->langchain==0.0.300) (0.4.3)\n"
     ]
    }
   ],
   "source": [
    "# Install the langchain package\n",
    "!pip install langchain==0.0.300"
   ]
  },
  {
   "cell_type": "code",
   "execution_count": 5,
   "metadata": {},
   "outputs": [
    {
     "name": "stdout",
     "output_type": "stream",
     "text": [
      "Requirement already satisfied: typing_extensions==4.8.0 in /Users/prasannasundar/anaconda3/lib/python3.10/site-packages (4.8.0)\n"
     ]
    }
   ],
   "source": [
    "# Install the typing_extensions package\n",
    "!pip install typing_extensions==4.8.0"
   ]
  },
  {
   "cell_type": "code",
   "execution_count": 6,
   "metadata": {},
   "outputs": [
    {
     "name": "stdout",
     "output_type": "stream",
     "text": [
      "Collecting openai\n",
      "  Downloading openai-1.3.8-py3-none-any.whl (221 kB)\n",
      "\u001b[2K     \u001b[90m━━━━━━━━━━━━━━━━━━━━━━━━━━━━━━━━━━━━━━━\u001b[0m \u001b[32m221.5/221.5 kB\u001b[0m \u001b[31m3.4 MB/s\u001b[0m eta \u001b[36m0:00:00\u001b[0ma \u001b[36m0:00:01\u001b[0m\n",
      "\u001b[?25hCollecting distro<2,>=1.7.0\n",
      "  Downloading distro-1.8.0-py3-none-any.whl (20 kB)\n",
      "Requirement already satisfied: sniffio in /Users/prasannasundar/anaconda3/lib/python3.10/site-packages (from openai) (1.2.0)\n",
      "Requirement already satisfied: tqdm>4 in /Users/prasannasundar/anaconda3/lib/python3.10/site-packages (from openai) (4.64.1)\n",
      "Collecting httpx<1,>=0.23.0\n",
      "  Downloading httpx-0.25.2-py3-none-any.whl (74 kB)\n",
      "\u001b[2K     \u001b[90m━━━━━━━━━━━━━━━━━━━━━━━━━━━━━━━━━━━━━━━━\u001b[0m \u001b[32m75.0/75.0 kB\u001b[0m \u001b[31m8.6 MB/s\u001b[0m eta \u001b[36m0:00:00\u001b[0m\n",
      "\u001b[?25hRequirement already satisfied: typing-extensions<5,>=4.5 in /Users/prasannasundar/anaconda3/lib/python3.10/site-packages (from openai) (4.8.0)\n",
      "Requirement already satisfied: pydantic<3,>=1.9.0 in /Users/prasannasundar/anaconda3/lib/python3.10/site-packages (from openai) (2.5.2)\n",
      "Requirement already satisfied: anyio<5,>=3.5.0 in /Users/prasannasundar/anaconda3/lib/python3.10/site-packages (from openai) (3.5.0)\n",
      "Requirement already satisfied: idna>=2.8 in /Users/prasannasundar/anaconda3/lib/python3.10/site-packages (from anyio<5,>=3.5.0->openai) (3.4)\n",
      "Collecting httpcore==1.*\n",
      "  Downloading httpcore-1.0.2-py3-none-any.whl (76 kB)\n",
      "\u001b[2K     \u001b[90m━━━━━━━━━━━━━━━━━━━━━━━━━━━━━━━━━━━━━━━━\u001b[0m \u001b[32m76.9/76.9 kB\u001b[0m \u001b[31m8.1 MB/s\u001b[0m eta \u001b[36m0:00:00\u001b[0m\n",
      "\u001b[?25hRequirement already satisfied: certifi in /Users/prasannasundar/anaconda3/lib/python3.10/site-packages (from httpx<1,>=0.23.0->openai) (2023.5.7)\n",
      "Collecting h11<0.15,>=0.13\n",
      "  Downloading h11-0.14.0-py3-none-any.whl (58 kB)\n",
      "\u001b[2K     \u001b[90m━━━━━━━━━━━━━━━━━━━━━━━━━━━━━━━━━━━━━━━━\u001b[0m \u001b[32m58.3/58.3 kB\u001b[0m \u001b[31m6.0 MB/s\u001b[0m eta \u001b[36m0:00:00\u001b[0m\n",
      "\u001b[?25hRequirement already satisfied: pydantic-core==2.14.5 in /Users/prasannasundar/anaconda3/lib/python3.10/site-packages (from pydantic<3,>=1.9.0->openai) (2.14.5)\n",
      "Requirement already satisfied: annotated-types>=0.4.0 in /Users/prasannasundar/anaconda3/lib/python3.10/site-packages (from pydantic<3,>=1.9.0->openai) (0.6.0)\n",
      "Installing collected packages: h11, distro, httpcore, httpx, openai\n",
      "Successfully installed distro-1.8.0 h11-0.14.0 httpcore-1.0.2 httpx-0.25.2 openai-1.3.8\n"
     ]
    }
   ],
   "source": [
    "!pip install openai"
   ]
  },
  {
   "cell_type": "code",
   "execution_count": null,
   "metadata": {},
   "outputs": [],
   "source": [
    "# Import the os package\n",
    "import os\n",
    "\n",
    "# Import the openai package\n",
    "import openai\n",
    "\n",
    "# Set openai.api_key to the OPENAI_API_KEY environment variable\n",
    "\n",
    "\n",
    "openai.api_key = os.environ[\"OPEN_AI_KEY\"]\n",
    "openai_api_key =os.environ[\"OPEN_AI_KEY\"]\n",
    "#pinecone_key = os.environ[\"PINECONE_KEY\"]\n",
    "#hugging_face_key = os.environ[\"HUGGING_FACE_KEY\"]"
   ]
  },
  {
   "cell_type": "code",
   "execution_count": null,
   "metadata": {},
   "outputs": [],
   "source": [
    "# Import the langchain package as lc\n",
    "import langchain as lc\n",
    "\n",
    "# From the langchain.chat_models module, import ChatOpenAI\n",
    "from langchain.chat_models import ChatOpenAI\n",
    "\n",
    "# From the langchain.schema module, import AIMessage, HumanMessage, SystemMessage\n",
    "\n",
    "from langchain.schema import AIMessage,HumanMessage,SystemMessage"
   ]
  },
  {
   "cell_type": "code",
   "execution_count": null,
   "metadata": {},
   "outputs": [],
   "source": [
    "# Import pandas using the alias pd\n",
    "import pandas as pd\n",
    "\n",
    "# Import plotly.express using the alias px\n",
    "import plotly.express as px\n",
    "\n",
    "# From the IPython.display package, import display and Markdown\n",
    "from IPython.display import display, Markdown"
   ]
  },
  {
   "attachments": {},
   "cell_type": "markdown",
   "metadata": {},
   "source": [
    "'''\n",
    "Task 1: Import the Electric Cars Data\n",
    "The electric cars data is contained in a CSV file named electric_cars.csv.\n",
    "\n",
    "Each row in the dataset represents the count of the number of cars registered within a city, for a particular model.\n",
    "\n",
    "The dataset contains the following columns.\n",
    "\n",
    "city (character): The city in which the registered owner resides.\n",
    "county (character): The county in which the registered owner resides.\n",
    "model_year (integer): The model year of the car.\n",
    "make (character): The manufacturer of the car.\n",
    "model (character): The model of the car.\n",
    "electric_vehicle_type (character): Either \"Plug-in Hybrid Electric Vehicle (PHEV)\" or \"Battery Electric Vehicle (BEV)\".\n",
    "n_cars (integer): The count of the number of vehicles registered.\n",
    "Our first step is to import and print the data.\n",
    "\n",
    "Instructions\n",
    "Import the electric cars data to a pandas dataframe.\n",
    "\n",
    "Read the data from electric_cars.csv. Assign to electric_cars.\n",
    "Display a description of the numeric columns of electric_cars.\n",
    "Display a description of the object columns of electric_cars.\n",
    "Print the whole dataset.\n",
    "\n",
    "'''"
   ]
  },
  {
   "cell_type": "code",
   "execution_count": null,
   "metadata": {},
   "outputs": [],
   "source": [
    "# Read the data from electric_cars.csv. Assign to electric_cars.\n",
    "\n",
    "electric_cars=pd.read_csv(\"electric_cars.csv\")\n",
    "\n",
    "# Display a description of the numeric columns\n",
    "print(\"Description of numeric columns\\n\")\n",
    "\n",
    "display(electric_cars.describe())\n",
    "\n",
    "# Display a description of the text (object) columns\n",
    "print(\"Description of text columns\\n\")\n",
    "\n",
    "display(electric_cars.describe(include=\"O\"))\n",
    "\n",
    "# Print the whole dataset\n",
    "print(\"The electric cars dataset\\n\")\n",
    "display(electric_cars[electric_cars['county']=='Washington'])"
   ]
  },
  {
   "cell_type": "code",
   "execution_count": null,
   "metadata": {},
   "outputs": [],
   "source": [
    "# Define the system message. Assign to system_msg_test.\n",
    "system_msg_test =\"\"\"You are a helpful assistant who understands data science.\n",
    " You write in a clear language that a ten year old can understand.\n",
    " You keep your answers brief.\"\"\"\n",
    "\n",
    "# Define the user message. Assign to user_msg_test.\n",
    "user_msg_test=\"Tell me some uses of GPT for data analysis.\"\n",
    "\n",
    "# Create a message list from the system and user messages. Assign to msgs_test.\n",
    "msgs_test = [\n",
    "    {\"role\": \"system\",\"content\": system_msg_test},\n",
    "    {\"role\":\"user\",\"content\":user_msg_test}\n",
    "]\n",
    "\n",
    "# Send the messages to GPT. Assign to resp_test.\n",
    "resp_test = openai.ChatCompletion.create(\n",
    "    model=\"gpt-3.5-turbo\",\n",
    "    messages=msgs_test\n",
    ")"
   ]
  },
  {
   "cell_type": "code",
   "execution_count": null,
   "metadata": {},
   "outputs": [],
   "source": [
    "# Print the whole response\n",
    "print(\"The whole response\\n\")\n",
    "print(resp_test)\n",
    "\n",
    "print(\"\\n\\n----\\n\\n\")\n",
    "\n",
    "# Print just the response's content\n",
    "print(\"Just the response's content\\n\")\n",
    "print(resp_test[\"choices\"][0][\"message\"][\"content\"])"
   ]
  },
  {
   "cell_type": "code",
   "execution_count": null,
   "metadata": {},
   "outputs": [],
   "source": [
    "# A description of the dataset\n",
    "dataset_description = \"\"\"\n",
    "You have a dataset about electric cars registered in Washington state, USA in 2020. It is available as a pandas DataFrame named `electric_cars`.\n",
    "\n",
    "Each row in the dataset represents the count of the number of cars registered within a city, for a particular model.\n",
    "\n",
    "The dataset contains the following columns.\n",
    "\n",
    "- `city` (character): The city in which the registered owner resides.\n",
    "- `county` (character): The county in which the registered owner resides.\n",
    "- `model_year` (integer): The [model year](https://en.wikipedia.org/wiki/Model_year#United_States_and_Canada) of the car.\n",
    "- `make` (character): The manufacturer of the car.\n",
    "- `model` (character): The model of the car.\n",
    "- `electric_vehicle_type` (character): Either \"Plug-in Hybrid Electric Vehicle (PHEV)\" or \"Battery Electric Vehicle (BEV)\".\n",
    "- `n_cars` (integer): The count of the number of vehicles registered.\n",
    "\"\"\"\n",
    "\n",
    "# Create a task for the AI. Assign to suggest_questions.\n",
    "suggest_questions = \"Suggest some questions for exploratory analysis with this dataset\"\n",
    "\n",
    "# Concatenate the dataset description and the request. Assign to msgs_suggest_questions.\n",
    "msgs_suggest_questions=[SystemMessage(content=\"You are an expert data analyst\"),\n",
    "                       HumanMessage(content=f\"{dataset_description}\\n\\n{suggest_questions}\") "
   ]
  },
  {
   "cell_type": "code",
   "execution_count": null,
   "metadata": {},
   "outputs": [],
   "source": [
    "# Create a ChatOpenAI object. Assign to chat.\n",
    "chat =ChatOpenAI(openai_api_key=os.environ[\"OPEN_AI_KEY\"])\n",
    "\n",
    "# Pass your message to GPT. Assign to rsps_suggest_questions.\n",
    "rsps_suggest_questions = chat(msgs_suggest_questions)\n",
    "\n",
    "# Print the response\n",
    "print(\"The whole response\\n\")\n",
    "print(rsps_suggest_questions)\n",
    "\n",
    "print(\"\\n----\\n\")\n",
    "\n",
    "# Print just the response's content\n",
    "print(\"Just the response's content\\n\")\n",
    "\n",
    "print(rsps_suggest_questions.content)\n",
    "print(\"\\n----\\n\")\n",
    "\n",
    "# Print the type of the response\n",
    "print(\"The type of the response\\n\")\n",
    "print(type(rsps_suggest_questions))"
   ]
  },
  {
   "cell_type": "code",
   "execution_count": null,
   "metadata": {},
   "outputs": [],
   "source": [
    "# Append the response and a new message to the previous messages. \n",
    "# Assign to msgs_python_top_models.\n",
    "msgs_python_top_models= msgs_suggest_questions + [\n",
    "    rsps_suggest_questions,\n",
    "    HumanMessage(content=\"Write Python Code to find the top make and model combinations of electric car in Washington state.\")\n",
    "]\n",
    "\n",
    "# Pass your message to GPT. Assign to rsps_python_top_models.\n",
    "rsps_python_top_models =chat(msgs_python_top_models)\n",
    "\n",
    "# Display the response's Markdown content\n",
    "display(Markdown(rsps_python_top_models.content))"
   ]
  },
  {
   "cell_type": "code",
   "execution_count": null,
   "metadata": {},
   "outputs": [],
   "source": [
    "# Paste the code generated by GPT and run it\n",
    "# Filter the dataset for electric cars in Washington state\n",
    "washington_cars = electric_cars[electric_cars['county'] == 'Washington']\n",
    "\n",
    "#we wanted in state of washington which is all of dataset,not county of washington\n",
    "print(washington_cars)\n",
    "\n",
    "# Group the data by make and model and calculate the total number of registrations\n",
    "grouped_cars = electric_cars.groupby(['make', 'model']).sum('n_cars')\n",
    "print(grouped_cars)\n",
    "# Sort the data in descending order based on the number of registrations\n",
    "sorted_cars = grouped_cars.sort_values(by='n_cars', ascending=False)\n",
    "# Get the top make and model combinations\n",
    "top_make_model_combinations = sorted_cars.head()\n",
    "\n",
    "# Print the top make and model combinations\n",
    "print(top_make_model_combinations)"
   ]
  },
  {
   "cell_type": "code",
   "execution_count": null,
   "metadata": {},
   "outputs": [],
   "source": [
    "# Create a new OpenAI chat object with temperature set to zero. Assign to chat0.\n",
    "#temperature 0 to 2 range, zero min randomness,langchain default 0.7,open ai default 1\n",
    "\n",
    "chat0 = ChatOpenAI(temperature= 0,openai_api_key=os.environ[\"OPEN_AI_KEY\"])"
   ]
  },
  {
   "cell_type": "code",
   "execution_count": null,
   "metadata": {},
   "outputs": [],
   "source": [
    "# Ask GPT for code for a bar plot, as detailed in the instructions\n",
    "msgs_python_plot = msgs_python_top_models + [rsps_python_top_models,HumanMessage(content=\"Write python code with plotly express to to draw a bar plot of the total count of electric cars by model year, with bars colored by electric vehicle type.\")\n",
    "                                            \n",
    "]\n",
    "\n",
    "\n",
    "\n",
    "resp_python_plot = chat0(msgs_python_plot)\n",
    "\n",
    "\n",
    "display(Markdown(resp_python_plot.content))"
   ]
  },
  {
   "cell_type": "code",
   "execution_count": null,
   "metadata": {},
   "outputs": [],
   "source": [
    "# Call GPT again with the same message list and display the response\n",
    "\n",
    "\n",
    "resp_python_plot_1 = chat0(msgs_python_plot)\n",
    "\n",
    "\n",
    "display(Markdown(resp_python_plot_1.content))"
   ]
  },
  {
   "cell_type": "code",
   "execution_count": null,
   "metadata": {},
   "outputs": [],
   "source": [
    "# Paste the code generated by GPT and run it\n",
    "import plotly.express as px\n",
    "\n",
    "# Group the data by model year and electric vehicle type and calculate the total count of electric cars\n",
    "grouped_cars = electric_cars.groupby(['model_year', 'electric_vehicle_type']).sum('n_cars').reset_index()\n",
    "\n",
    "# Draw the bar plot using Plotly Express\n",
    "fig = px.bar(grouped_cars, x='model_year', y='n_cars', color='electric_vehicle_type',\n",
    "             title='Total Count of Electric Cars by Model Year',\n",
    "             labels={'model_year': 'Model Year', 'n_cars': 'Count of Electric Cars'},\n",
    "             color_discrete_map={'Plug-in Hybrid Electric Vehicle (PHEV)': 'blue',\n",
    "                                 'Battery Electric Vehicle (BEV)': 'green'})\n",
    "\n",
    "# Show the plot\n",
    "fig.show()\n"
   ]
  }
 ],
 "metadata": {
  "kernelspec": {
   "display_name": "Python 3",
   "language": "python",
   "name": "python3"
  },
  "language_info": {
   "codemirror_mode": {
    "name": "ipython",
    "version": 3
   },
   "file_extension": ".py",
   "mimetype": "text/x-python",
   "name": "python",
   "nbconvert_exporter": "python",
   "pygments_lexer": "ipython3",
   "version": "3.9.6"
  },
  "orig_nbformat": 4
 },
 "nbformat": 4,
 "nbformat_minor": 2
}
