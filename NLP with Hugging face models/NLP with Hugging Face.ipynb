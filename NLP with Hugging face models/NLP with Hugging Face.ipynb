{
 "cells": [
  {
   "cell_type": "code",
   "execution_count": 2,
   "metadata": {},
   "outputs": [
    {
     "name": "stderr",
     "output_type": "stream",
     "text": [
      "/Users/prasannasundar/anaconda3/lib/python3.10/site-packages/tqdm/auto.py:22: TqdmWarning: IProgress not found. Please update jupyter and ipywidgets. See https://ipywidgets.readthedocs.io/en/stable/user_install.html\n",
      "  from .autonotebook import tqdm as notebook_tqdm\n"
     ]
    }
   ],
   "source": [
    "# Import the other required packages and modules.\n",
    "import pandas as pd\n",
    "import datetime\n",
    "import re\n",
    "import string\n",
    "import matplotlib.pyplot as plt\n",
    "import seaborn as sns\n",
    "import numpy as np\n",
    "from transformers import pipeline\n",
    "from sentence_transformers import SentenceTransformer\n",
    "from sentence_transformers.util import semantic_search\n",
    "\n",
    "\n",
    "# From the IPython.display package, import display and Markdown\n",
    "from IPython.display import display, Markdown\n",
    "\n",
    "import torchvision"
   ]
  },
  {
   "cell_type": "code",
   "execution_count": 3,
   "metadata": {},
   "outputs": [
    {
     "name": "stdout",
     "output_type": "stream",
     "text": [
      "<class 'pandas.core.frame.DataFrame'>\n",
      "RangeIndex: 1506 entries, 0 to 1505\n",
      "Data columns (total 10 columns):\n",
      " #   Column       Non-Null Count  Dtype         \n",
      "---  ------       --------------  -----         \n",
      " 0   user_id      1506 non-null   int64         \n",
      " 1   item_id      1506 non-null   int64         \n",
      " 2   rating       1506 non-null   int64         \n",
      " 3   rented for   1506 non-null   object        \n",
      " 4   review_text  1506 non-null   object        \n",
      " 5   category     1506 non-null   object        \n",
      " 6   height       1503 non-null   object        \n",
      " 7   size         1506 non-null   int64         \n",
      " 8   age          1500 non-null   float64       \n",
      " 9   review_date  1506 non-null   datetime64[ns]\n",
      "dtypes: datetime64[ns](1), float64(1), int64(4), object(4)\n",
      "memory usage: 117.8+ KB\n",
      "None\n",
      "   user_id  item_id  rating     rented for  \\\n",
      "0   476109   139086       8  formal affair   \n",
      "1   203660  1126889       6          party   \n",
      "2   868581   652189       8        wedding   \n",
      "3   935076  1879504       8        wedding   \n",
      "4   995023  1179146      10          party   \n",
      "\n",
      "                                         review_text category height  size  \\\n",
      "0  it hit the floor perfectly with a pair of heel...     gown  5' 3\"    15   \n",
      "1  the dress is absolutely gorgeous unfortunately...    dress  5' 4\"    12   \n",
      "2  even though it was lined with satin this was a...    dress  5' 5\"    24   \n",
      "3  this dress was greatit fit really well and was...   sheath  5' 3\"    14   \n",
      "4  super flattering i am usually a sizemi have a ...    dress  5' 2\"    14   \n",
      "\n",
      "    age review_date  \n",
      "0  27.0  2017-12-19  \n",
      "1  28.0  2022-01-03  \n",
      "2  30.0  2021-08-05  \n",
      "3  37.0  2021-10-02  \n",
      "4  37.0  2022-11-20  \n"
     ]
    }
   ],
   "source": [
    "#read data\n",
    "runway = pd.read_csv(\"runway.csv\",parse_dates=['review_date']) # parse column as datetime for visualization  \n",
    "print(runway.info())\n",
    "\n",
    "print(runway.head())"
   ]
  },
  {
   "cell_type": "code",
   "execution_count": 4,
   "metadata": {},
   "outputs": [],
   "source": [
    "## Pre Processing\n",
    "\n",
    "#remove forward slash \n",
    "\n",
    "runway['review_text_cleaned']=runway['review_text'].str.replace(r\"\\/\",\"\")\n",
    "\n",
    "#remove punctuation\n",
    "runway['review_text_cleaned']=runway['review_text_cleaned'].str.translate(string.punctuation)\n",
    "\n",
    "\n",
    "#remove digits\n",
    "runway['review_text_cleaned']=runway['review_text_cleaned'].str.replace(r\"\\d+\",\"\")\n",
    "\n",
    "#remove running spaces\n",
    "\n",
    "runway['review_text_cleaned']=runway['review_text_cleaned'].str.replace(r\"\\s{2,}\",\"\")  #removing 2 or more spaces\n",
    "#make text lowercase\n",
    "runway['review_text_cleaned']=runway['review_text_cleaned'].str.lower()"
   ]
  },
  {
   "cell_type": "code",
   "execution_count": 6,
   "metadata": {},
   "outputs": [
    {
     "data": {
      "text/plain": [
       "'super flattering i am usually a sizemi have a dd chest and this dress was so flattering on'"
      ]
     },
     "execution_count": 6,
     "metadata": {},
     "output_type": "execute_result"
    }
   ],
   "source": [
    "runway['review_text_cleaned'][4]"
   ]
  },
  {
   "attachments": {},
   "cell_type": "markdown",
   "metadata": {},
   "source": [
    "## Sentiment Analysis"
   ]
  },
  {
   "cell_type": "code",
   "execution_count": 5,
   "metadata": {},
   "outputs": [],
   "source": [
    "#bert based model for sentiment analysis\n",
    "senti_model = \"distilbert-base-uncased-finetuned-sst-2-english\" \n",
    "\n",
    "\n",
    "#instantiate new pipeline object\n",
    "\n",
    "sentimentAnalysis = pipeline(\"sentiment-analysis\",model=senti_model)\n",
    "\n",
    "# Run on cleaned review text\n",
    "\n",
    "\n",
    "sent_analysis_output = sentimentAnalysis(list(runway[\"review_text_cleaned\"]))"
   ]
  },
  {
   "attachments": {},
   "cell_type": "markdown",
   "metadata": {},
   "source": [
    "## Histogram of Sentiment Score\n",
    "\n",
    "\n"
   ]
  },
  {
   "cell_type": "code",
   "execution_count": 9,
   "metadata": {},
   "outputs": [
    {
     "data": {
      "text/plain": [
       "Text(0.5, 1.0, 'For Clean Review Text')"
      ]
     },
     "execution_count": 9,
     "metadata": {},
     "output_type": "execute_result"
    },
    {
     "data": {
      "image/png": "[encoded data removed]",
      "text/plain": [
       "<Figure size 640x480 with 1 Axes>"
      ]
     },
     "metadata": {},
     "output_type": "display_data"
    }
   ],
   "source": [
    "\n",
    "#parse output as sentiment category label and score\n",
    "runway['clean_sentiment_category'] = [s['label'] for s in sent_analysis_output]\n",
    "runway['clean_sentiment_score'] = [s['score'] for s in sent_analysis_output]\n",
    "\n",
    "\n",
    "\n",
    "sns.histplot(data=runway,x=\"clean_sentiment_score\",bins=20)\n",
    "\n",
    "plt.suptitle(\"Distribution of sentiment score\")\n",
    "\n",
    "plt.xlabel(\"Sentiment Score\")\n",
    "\n",
    "plt.ylabel(\"Count of reviews\")\n",
    "\n",
    "\n",
    "plt.title(\"For Clean Review Text\")"
   ]
  },
  {
   "cell_type": "code",
   "execution_count": null,
   "metadata": {},
   "outputs": [],
   "source": [
    "#insight\n",
    "# Most reviews are positive"
   ]
  },
  {
   "cell_type": "code",
   "execution_count": 19,
   "metadata": {},
   "outputs": [
    {
     "data": {
      "image/png": "[encoded data removed]",
      "text/plain": [
       "<Figure size 640x480 with 1 Axes>"
      ]
     },
     "metadata": {},
     "output_type": "display_data"
    }
   ],
   "source": [
    "#analyze reviews by year\n",
    "\n",
    "chart_data = runway.groupby(['year', 'clean_sentiment_category'], as_index=False)['user_id'].count()\n",
    "chart_data.columns = ['year', 'clean_sentiment_category', 'cnt']\n",
    "\n",
    "# Create a bar plot showing the count of reviews for each sentiment category over the years.\n",
    "sns.barplot(data=chart_data, x=\"year\", y=\"cnt\", hue=\"clean_sentiment_category\", errorbar = None)\n",
    "plt.title(\"Sentiment between 2016 - 2023\")\n",
    "plt.xlabel(\"Review Year\")\n",
    "plt.ylabel(\"Count of Reviews\")\n",
    "plt.show()"
   ]
  },
  {
   "cell_type": "code",
   "execution_count": 20,
   "metadata": {},
   "outputs": [
    {
     "data": {
      "text/html": [
       "<div>\n",
       "<style scoped>\n",
       "    .dataframe tbody tr th:only-of-type {\n",
       "        vertical-align: middle;\n",
       "    }\n",
       "\n",
       "    .dataframe tbody tr th {\n",
       "        vertical-align: top;\n",
       "    }\n",
       "\n",
       "    .dataframe thead th {\n",
       "        text-align: right;\n",
       "    }\n",
       "</style>\n",
       "<table border=\"1\" class=\"dataframe\">\n",
       "  <thead>\n",
       "    <tr style=\"text-align: right;\">\n",
       "      <th></th>\n",
       "      <th>year</th>\n",
       "      <th>clean_sentiment_category</th>\n",
       "      <th>cnt</th>\n",
       "    </tr>\n",
       "  </thead>\n",
       "  <tbody>\n",
       "    <tr>\n",
       "      <th>0</th>\n",
       "      <td>2016</td>\n",
       "      <td>POSITIVE</td>\n",
       "      <td>3</td>\n",
       "    </tr>\n",
       "    <tr>\n",
       "      <th>1</th>\n",
       "      <td>2017</td>\n",
       "      <td>NEGATIVE</td>\n",
       "      <td>9</td>\n",
       "    </tr>\n",
       "    <tr>\n",
       "      <th>2</th>\n",
       "      <td>2017</td>\n",
       "      <td>POSITIVE</td>\n",
       "      <td>12</td>\n",
       "    </tr>\n",
       "    <tr>\n",
       "      <th>3</th>\n",
       "      <td>2018</td>\n",
       "      <td>NEGATIVE</td>\n",
       "      <td>24</td>\n",
       "    </tr>\n",
       "    <tr>\n",
       "      <th>4</th>\n",
       "      <td>2018</td>\n",
       "      <td>POSITIVE</td>\n",
       "      <td>54</td>\n",
       "    </tr>\n",
       "    <tr>\n",
       "      <th>5</th>\n",
       "      <td>2019</td>\n",
       "      <td>NEGATIVE</td>\n",
       "      <td>60</td>\n",
       "    </tr>\n",
       "    <tr>\n",
       "      <th>6</th>\n",
       "      <td>2019</td>\n",
       "      <td>POSITIVE</td>\n",
       "      <td>170</td>\n",
       "    </tr>\n",
       "    <tr>\n",
       "      <th>7</th>\n",
       "      <td>2020</td>\n",
       "      <td>NEGATIVE</td>\n",
       "      <td>62</td>\n",
       "    </tr>\n",
       "    <tr>\n",
       "      <th>8</th>\n",
       "      <td>2020</td>\n",
       "      <td>POSITIVE</td>\n",
       "      <td>180</td>\n",
       "    </tr>\n",
       "    <tr>\n",
       "      <th>9</th>\n",
       "      <td>2021</td>\n",
       "      <td>NEGATIVE</td>\n",
       "      <td>104</td>\n",
       "    </tr>\n",
       "    <tr>\n",
       "      <th>10</th>\n",
       "      <td>2021</td>\n",
       "      <td>POSITIVE</td>\n",
       "      <td>331</td>\n",
       "    </tr>\n",
       "    <tr>\n",
       "      <th>11</th>\n",
       "      <td>2022</td>\n",
       "      <td>NEGATIVE</td>\n",
       "      <td>112</td>\n",
       "    </tr>\n",
       "    <tr>\n",
       "      <th>12</th>\n",
       "      <td>2022</td>\n",
       "      <td>POSITIVE</td>\n",
       "      <td>376</td>\n",
       "    </tr>\n",
       "    <tr>\n",
       "      <th>13</th>\n",
       "      <td>2023</td>\n",
       "      <td>NEGATIVE</td>\n",
       "      <td>3</td>\n",
       "    </tr>\n",
       "    <tr>\n",
       "      <th>14</th>\n",
       "      <td>2023</td>\n",
       "      <td>POSITIVE</td>\n",
       "      <td>6</td>\n",
       "    </tr>\n",
       "  </tbody>\n",
       "</table>\n",
       "</div>"
      ],
      "text/plain": [
       "    year clean_sentiment_category  cnt\n",
       "0   2016                 POSITIVE    3\n",
       "1   2017                 NEGATIVE    9\n",
       "2   2017                 POSITIVE   12\n",
       "3   2018                 NEGATIVE   24\n",
       "4   2018                 POSITIVE   54\n",
       "5   2019                 NEGATIVE   60\n",
       "6   2019                 POSITIVE  170\n",
       "7   2020                 NEGATIVE   62\n",
       "8   2020                 POSITIVE  180\n",
       "9   2021                 NEGATIVE  104\n",
       "10  2021                 POSITIVE  331\n",
       "11  2022                 NEGATIVE  112\n",
       "12  2022                 POSITIVE  376\n",
       "13  2023                 NEGATIVE    3\n",
       "14  2023                 POSITIVE    6"
      ]
     },
     "execution_count": 20,
     "metadata": {},
     "output_type": "execute_result"
    }
   ],
   "source": [
    "# Reviews have increased every year until 2022. The % of positive reviews also has been on an increeasing trend. 2021 was a game changer!"
   ]
  },
  {
   "cell_type": "code",
   "execution_count": 24,
   "metadata": {},
   "outputs": [],
   "source": [
    "# check if unprocessed review data makes any difference for the sentiment category\n",
    "\n",
    "\n",
    "\n",
    "sent_analysis_output2 = sentimentAnalysis(list(runway[\"review_text\"]))\n",
    "\n",
    "\n",
    "#parse output as sentiment category label and score\n",
    "runway['clean_sentiment_category2'] = [s['label'] for s in sent_analysis_output2]\n",
    "runway['clean_sentiment_score2'] = [s['score'] for s in sent_analysis_output2]\n"
   ]
  },
  {
   "cell_type": "code",
   "execution_count": 26,
   "metadata": {},
   "outputs": [
    {
     "data": {
      "text/html": [
       "<div>\n",
       "<style scoped>\n",
       "    .dataframe tbody tr th:only-of-type {\n",
       "        vertical-align: middle;\n",
       "    }\n",
       "\n",
       "    .dataframe tbody tr th {\n",
       "        vertical-align: top;\n",
       "    }\n",
       "\n",
       "    .dataframe thead th {\n",
       "        text-align: right;\n",
       "    }\n",
       "</style>\n",
       "<table border=\"1\" class=\"dataframe\">\n",
       "  <thead>\n",
       "    <tr style=\"text-align: right;\">\n",
       "      <th>clean_sentiment_category2</th>\n",
       "      <th>NEGATIVE</th>\n",
       "      <th>POSITIVE</th>\n",
       "    </tr>\n",
       "    <tr>\n",
       "      <th>clean_sentiment_category2</th>\n",
       "      <th></th>\n",
       "      <th></th>\n",
       "    </tr>\n",
       "  </thead>\n",
       "  <tbody>\n",
       "    <tr>\n",
       "      <th>NEGATIVE</th>\n",
       "      <td>375</td>\n",
       "      <td>0</td>\n",
       "    </tr>\n",
       "    <tr>\n",
       "      <th>POSITIVE</th>\n",
       "      <td>0</td>\n",
       "      <td>1131</td>\n",
       "    </tr>\n",
       "  </tbody>\n",
       "</table>\n",
       "</div>"
      ],
      "text/plain": [
       "clean_sentiment_category2  NEGATIVE  POSITIVE\n",
       "clean_sentiment_category2                    \n",
       "NEGATIVE                        375         0\n",
       "POSITIVE                          0      1131"
      ]
     },
     "metadata": {},
     "output_type": "display_data"
    },
    {
     "data": {
      "text/html": [
       "<div>\n",
       "<style scoped>\n",
       "    .dataframe tbody tr th:only-of-type {\n",
       "        vertical-align: middle;\n",
       "    }\n",
       "\n",
       "    .dataframe tbody tr th {\n",
       "        vertical-align: top;\n",
       "    }\n",
       "\n",
       "    .dataframe thead th {\n",
       "        text-align: right;\n",
       "    }\n",
       "</style>\n",
       "<table border=\"1\" class=\"dataframe\">\n",
       "  <thead>\n",
       "    <tr style=\"text-align: right;\">\n",
       "      <th>clean_sentiment_category</th>\n",
       "      <th>NEGATIVE</th>\n",
       "      <th>POSITIVE</th>\n",
       "    </tr>\n",
       "    <tr>\n",
       "      <th>clean_sentiment_category</th>\n",
       "      <th></th>\n",
       "      <th></th>\n",
       "    </tr>\n",
       "  </thead>\n",
       "  <tbody>\n",
       "    <tr>\n",
       "      <th>NEGATIVE</th>\n",
       "      <td>374</td>\n",
       "      <td>0</td>\n",
       "    </tr>\n",
       "    <tr>\n",
       "      <th>POSITIVE</th>\n",
       "      <td>0</td>\n",
       "      <td>1132</td>\n",
       "    </tr>\n",
       "  </tbody>\n",
       "</table>\n",
       "</div>"
      ],
      "text/plain": [
       "clean_sentiment_category  NEGATIVE  POSITIVE\n",
       "clean_sentiment_category                    \n",
       "NEGATIVE                       374         0\n",
       "POSITIVE                         0      1132"
      ]
     },
     "metadata": {},
     "output_type": "display_data"
    }
   ],
   "source": [
    "# confusion matrix\n",
    "\n",
    "display( pd.crosstab(runway['clean_sentiment_category2'],runway['clean_sentiment_category2']))\n",
    "\n",
    "\n",
    "display( pd.crosstab(runway['clean_sentiment_category'],runway['clean_sentiment_category']))"
   ]
  },
  {
   "cell_type": "code",
   "execution_count": null,
   "metadata": {},
   "outputs": [],
   "source": [
    "''' insight: we got almost same sentiment category from unprocessed review data.\n",
    "this is because the transformers model BERT  uses self attention and gains context from sequences in texts, This allows the models to  work well with text as is and unstructured,\n",
    "For this particular application we can use unprocessed data '''"
   ]
  },
  {
   "cell_type": "code",
   "execution_count": 6,
   "metadata": {},
   "outputs": [
    {
     "name": "stdout",
     "output_type": "stream",
     "text": [
      "(1506, 384)\n"
     ]
    }
   ],
   "source": [
    "# text embeddings\n",
    "model_id = \"sentence-transformers/all-MiniLM-L6-v2\"\n",
    "\n",
    "# Instantiate a new SentenceTransformer object.\n",
    "model = SentenceTransformer(model_id)\n",
    "\n",
    "# Generate the embeddings for the \"rented for\" column.\n",
    "embeddings = model.encode(list(runway[\"rented for\"]))\n",
    "\n",
    "print(embeddings.shape)\n",
    "\n",
    "\n"
   ]
  },
  {
   "attachments": {},
   "cell_type": "markdown",
   "metadata": {},
   "source": [
    "## Semantic Search"
   ]
  },
  {
   "cell_type": "code",
   "execution_count": 7,
   "metadata": {},
   "outputs": [
    {
     "name": "stdout",
     "output_type": "stream",
     "text": [
      "ITEM ID:  652189 ; RENTED FOR:  wedding ; REVIEW even though it was lined with satin this was a light beachy dress that was still formal enough for this casual beach weddingitsbackless though so you cant wear a bra and because the neck is such a scoopneck it makes the neckline a little strange if you have a chest and dont wear onei ended up getting one of those stick on bras and the dress looked much betterits much pinker than the model picture which was a pleasant surprisepretty dress comfortable just a little awkward fitting in the chest area if you have anything larger than an abuy the stick on bra\n",
      "ITEM ID:  1498329 ; RENTED FOR:  wedding ; REVIEW the dress was gorgeous but unfortunately i was unable to wear it due to some quality issues which the renttherunway team was excellent at handlingi would recommend going upsizes from your usual dress size if you have a larger bustit also runs on the long side imand even withinch heels it dragged a little too much for my preferencethe colours are rich and true to the picture the fabric is forgiving when it comes to wrinkles so its a dress that travels very well\n",
      "ITEM ID:  1879504 ; RENTED FOR:  wedding ; REVIEW this dress was greatit fit really well and was very comfortablethe only negative is that the length is a little odd so it made walking up stairs and getting into the car a little difficultimlbs and the medium fit perfectly\n"
     ]
    }
   ],
   "source": [
    "# Define query\n",
    "query = \"a gorgeous and flattering dress\"\n",
    "\n",
    "# Embed query\n",
    "query_emb = model.encode(query, convert_to_tensor=True)\n",
    "\n",
    "# Calculate similarity between query and item embeddings\n",
    "hits = semantic_search(query_emb, embeddings, top_k=3)\n"
   ]
  },
  {
   "cell_type": "code",
   "execution_count": 13,
   "metadata": {},
   "outputs": [
    {
     "data": {
      "text/plain": [
       "'ITEM ID: '"
      ]
     },
     "metadata": {},
     "output_type": "display_data"
    },
    {
     "data": {
      "text/plain": [
       "652189"
      ]
     },
     "metadata": {},
     "output_type": "display_data"
    },
    {
     "data": {
      "text/plain": [
       "'; RENTED FOR: '"
      ]
     },
     "metadata": {},
     "output_type": "display_data"
    },
    {
     "data": {
      "text/plain": [
       "'wedding'"
      ]
     },
     "metadata": {},
     "output_type": "display_data"
    },
    {
     "data": {
      "text/plain": [
       "'; REVIEW'"
      ]
     },
     "metadata": {},
     "output_type": "display_data"
    },
    {
     "data": {
      "text/plain": [
       "'even though it was lined with satin this was a light beachy dress that was still formal enough for this casual beach weddingitsbackless though so you cant wear a bra and because the neck is such a scoopneck it makes the neckline a little strange if you have a chest and dont wear onei ended up getting one of those stick on bras and the dress looked much betterits much pinker than the model picture which was a pleasant surprisepretty dress comfortable just a little awkward fitting in the chest area if you have anything larger than an abuy the stick on bra'"
      ]
     },
     "metadata": {},
     "output_type": "display_data"
    },
    {
     "data": {
      "text/plain": [
       "'; clean_sentiment_category'"
      ]
     },
     "metadata": {},
     "output_type": "display_data"
    },
    {
     "data": {
      "text/plain": [
       "'NEGATIVE'"
      ]
     },
     "metadata": {},
     "output_type": "display_data"
    },
    {
     "data": {
      "text/plain": [
       "'ITEM ID: '"
      ]
     },
     "metadata": {},
     "output_type": "display_data"
    },
    {
     "data": {
      "text/plain": [
       "1498329"
      ]
     },
     "metadata": {},
     "output_type": "display_data"
    },
    {
     "data": {
      "text/plain": [
       "'; RENTED FOR: '"
      ]
     },
     "metadata": {},
     "output_type": "display_data"
    },
    {
     "data": {
      "text/plain": [
       "'wedding'"
      ]
     },
     "metadata": {},
     "output_type": "display_data"
    },
    {
     "data": {
      "text/plain": [
       "'; REVIEW'"
      ]
     },
     "metadata": {},
     "output_type": "display_data"
    },
    {
     "data": {
      "text/plain": [
       "'the dress was gorgeous but unfortunately i was unable to wear it due to some quality issues which the renttherunway team was excellent at handlingi would recommend going upsizes from your usual dress size if you have a larger bustit also runs on the long side imand even withinch heels it dragged a little too much for my preferencethe colours are rich and true to the picture the fabric is forgiving when it comes to wrinkles so its a dress that travels very well'"
      ]
     },
     "metadata": {},
     "output_type": "display_data"
    },
    {
     "data": {
      "text/plain": [
       "'; clean_sentiment_category'"
      ]
     },
     "metadata": {},
     "output_type": "display_data"
    },
    {
     "data": {
      "text/plain": [
       "'POSITIVE'"
      ]
     },
     "metadata": {},
     "output_type": "display_data"
    },
    {
     "data": {
      "text/plain": [
       "'ITEM ID: '"
      ]
     },
     "metadata": {},
     "output_type": "display_data"
    },
    {
     "data": {
      "text/plain": [
       "1879504"
      ]
     },
     "metadata": {},
     "output_type": "display_data"
    },
    {
     "data": {
      "text/plain": [
       "'; RENTED FOR: '"
      ]
     },
     "metadata": {},
     "output_type": "display_data"
    },
    {
     "data": {
      "text/plain": [
       "'wedding'"
      ]
     },
     "metadata": {},
     "output_type": "display_data"
    },
    {
     "data": {
      "text/plain": [
       "'; REVIEW'"
      ]
     },
     "metadata": {},
     "output_type": "display_data"
    },
    {
     "data": {
      "text/plain": [
       "'this dress was greatit fit really well and was very comfortablethe only negative is that the length is a little odd so it made walking up stairs and getting into the car a little difficultimlbs and the medium fit perfectly'"
      ]
     },
     "metadata": {},
     "output_type": "display_data"
    },
    {
     "data": {
      "text/plain": [
       "'; clean_sentiment_category'"
      ]
     },
     "metadata": {},
     "output_type": "display_data"
    },
    {
     "data": {
      "text/plain": [
       "'POSITIVE'"
      ]
     },
     "metadata": {},
     "output_type": "display_data"
    }
   ],
   "source": [
    "\n",
    "# Print top similar items\n",
    "for hit in hits[0]:\n",
    "    idx = hit['corpus_id']\n",
    "    display(\n",
    "        \"ITEM ID: \", runway.iloc[idx]['item_id'], \n",
    "        \"; RENTED FOR: \", runway.iloc[idx]['rented for'],\n",
    "        \"; REVIEW\", runway.iloc[idx]['review_text'],\n",
    "        \"; clean_sentiment_category\", runway.iloc[idx]['clean_sentiment_category'])"
   ]
  }
 ],
 "metadata": {
  "kernelspec": {
   "display_name": "base",
   "language": "python",
   "name": "python3"
  },
  "language_info": {
   "codemirror_mode": {
    "name": "ipython",
    "version": 3
   },
   "file_extension": ".py",
   "mimetype": "text/x-python",
   "name": "python",
   "nbconvert_exporter": "python",
   "pygments_lexer": "ipython3",
   "version": "3.10.9"
  },
  "orig_nbformat": 4
 },
 "nbformat": 4,
 "nbformat_minor": 2
}
